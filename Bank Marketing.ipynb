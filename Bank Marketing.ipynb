{
 "cells": [
  {
   "cell_type": "markdown",
   "metadata": {},
   "source": [
    "# Bank Marketing"
   ]
  },
  {
   "cell_type": "markdown",
   "metadata": {},
   "source": [
    "## 1. Importing data to Python"
   ]
  },
  {
   "cell_type": "code",
   "execution_count": 1,
   "metadata": {
    "collapsed": true
   },
   "outputs": [],
   "source": [
    "import pandas as pd\n",
    "import numpy as np"
   ]
  },
  {
   "cell_type": "code",
   "execution_count": 2,
   "metadata": {
    "collapsed": false
   },
   "outputs": [],
   "source": [
    "databank = pd.read_csv(\"bank.csv\", sep = \";\")"
   ]
  },
  {
   "cell_type": "markdown",
   "metadata": {},
   "source": [
    "Dari data kita bisa lihat:\n",
    "age : Numerical\n",
    "job : Categorical\n",
    "marital : Categorical\n",
    "education : Categorical\n",
    "default : Categorical\n",
    "housing: Categorical\n",
    "loan: Categorical\n",
    "contact: Categorical\n",
    "day: numerical\n",
    "month: categorical\n",
    "duration: numerical\n",
    "campaign: numerical\n",
    "pdays: numerical\n",
    "previous: numerical\n",
    "poutcome: categorical\n",
    "y: output (desired target)"
   ]
  },
  {
   "cell_type": "code",
   "execution_count": 3,
   "metadata": {
    "collapsed": false
   },
   "outputs": [
    {
     "data": {
      "text/plain": [
       "(4521, 17)"
      ]
     },
     "execution_count": 3,
     "metadata": {},
     "output_type": "execute_result"
    }
   ],
   "source": [
    "databank.shape"
   ]
  },
  {
   "cell_type": "markdown",
   "metadata": {},
   "source": [
    "Drop data yang duplicate"
   ]
  },
  {
   "cell_type": "code",
   "execution_count": 4,
   "metadata": {
    "collapsed": false
   },
   "outputs": [
    {
     "data": {
      "text/plain": [
       "(4521, 17)"
      ]
     },
     "execution_count": 4,
     "metadata": {},
     "output_type": "execute_result"
    }
   ],
   "source": [
    "databank = databank.drop_duplicates()\n",
    "databank.shape"
   ]
  },
  {
   "cell_type": "markdown",
   "metadata": {},
   "source": [
    "Input-Output Splitting"
   ]
  },
  {
   "cell_type": "code",
   "execution_count": 5,
   "metadata": {
    "collapsed": true
   },
   "outputs": [],
   "source": [
    "def extractInputOutput(data, output_column_name):\n",
    "    data_output = data[output_column_name]\n",
    "    data_input = data.drop(output_column_name, axis = 1)\n",
    "    return data_input, data_output\n",
    "\n",
    "x,y = extractInputOutput(databank, 'y')"
   ]
  },
  {
   "cell_type": "code",
   "execution_count": 6,
   "metadata": {
    "collapsed": false
   },
   "outputs": [
    {
     "data": {
      "text/html": [
       "<div>\n",
       "<table border=\"1\" class=\"dataframe\">\n",
       "  <thead>\n",
       "    <tr style=\"text-align: right;\">\n",
       "      <th></th>\n",
       "      <th>age</th>\n",
       "      <th>job</th>\n",
       "      <th>marital</th>\n",
       "      <th>education</th>\n",
       "      <th>default</th>\n",
       "      <th>balance</th>\n",
       "      <th>housing</th>\n",
       "      <th>loan</th>\n",
       "      <th>contact</th>\n",
       "      <th>day</th>\n",
       "      <th>month</th>\n",
       "      <th>duration</th>\n",
       "      <th>campaign</th>\n",
       "      <th>pdays</th>\n",
       "      <th>previous</th>\n",
       "      <th>poutcome</th>\n",
       "    </tr>\n",
       "  </thead>\n",
       "  <tbody>\n",
       "    <tr>\n",
       "      <th>0</th>\n",
       "      <td>30</td>\n",
       "      <td>unemployed</td>\n",
       "      <td>married</td>\n",
       "      <td>primary</td>\n",
       "      <td>no</td>\n",
       "      <td>1787</td>\n",
       "      <td>no</td>\n",
       "      <td>no</td>\n",
       "      <td>cellular</td>\n",
       "      <td>19</td>\n",
       "      <td>oct</td>\n",
       "      <td>79</td>\n",
       "      <td>1</td>\n",
       "      <td>-1</td>\n",
       "      <td>0</td>\n",
       "      <td>unknown</td>\n",
       "    </tr>\n",
       "    <tr>\n",
       "      <th>1</th>\n",
       "      <td>33</td>\n",
       "      <td>services</td>\n",
       "      <td>married</td>\n",
       "      <td>secondary</td>\n",
       "      <td>no</td>\n",
       "      <td>4789</td>\n",
       "      <td>yes</td>\n",
       "      <td>yes</td>\n",
       "      <td>cellular</td>\n",
       "      <td>11</td>\n",
       "      <td>may</td>\n",
       "      <td>220</td>\n",
       "      <td>1</td>\n",
       "      <td>339</td>\n",
       "      <td>4</td>\n",
       "      <td>failure</td>\n",
       "    </tr>\n",
       "    <tr>\n",
       "      <th>2</th>\n",
       "      <td>35</td>\n",
       "      <td>management</td>\n",
       "      <td>single</td>\n",
       "      <td>tertiary</td>\n",
       "      <td>no</td>\n",
       "      <td>1350</td>\n",
       "      <td>yes</td>\n",
       "      <td>no</td>\n",
       "      <td>cellular</td>\n",
       "      <td>16</td>\n",
       "      <td>apr</td>\n",
       "      <td>185</td>\n",
       "      <td>1</td>\n",
       "      <td>330</td>\n",
       "      <td>1</td>\n",
       "      <td>failure</td>\n",
       "    </tr>\n",
       "    <tr>\n",
       "      <th>3</th>\n",
       "      <td>30</td>\n",
       "      <td>management</td>\n",
       "      <td>married</td>\n",
       "      <td>tertiary</td>\n",
       "      <td>no</td>\n",
       "      <td>1476</td>\n",
       "      <td>yes</td>\n",
       "      <td>yes</td>\n",
       "      <td>unknown</td>\n",
       "      <td>3</td>\n",
       "      <td>jun</td>\n",
       "      <td>199</td>\n",
       "      <td>4</td>\n",
       "      <td>-1</td>\n",
       "      <td>0</td>\n",
       "      <td>unknown</td>\n",
       "    </tr>\n",
       "    <tr>\n",
       "      <th>4</th>\n",
       "      <td>59</td>\n",
       "      <td>blue-collar</td>\n",
       "      <td>married</td>\n",
       "      <td>secondary</td>\n",
       "      <td>no</td>\n",
       "      <td>0</td>\n",
       "      <td>yes</td>\n",
       "      <td>no</td>\n",
       "      <td>unknown</td>\n",
       "      <td>5</td>\n",
       "      <td>may</td>\n",
       "      <td>226</td>\n",
       "      <td>1</td>\n",
       "      <td>-1</td>\n",
       "      <td>0</td>\n",
       "      <td>unknown</td>\n",
       "    </tr>\n",
       "  </tbody>\n",
       "</table>\n",
       "</div>"
      ],
      "text/plain": [
       "   age          job  marital  education default  balance housing loan  \\\n",
       "0   30   unemployed  married    primary      no     1787      no   no   \n",
       "1   33     services  married  secondary      no     4789     yes  yes   \n",
       "2   35   management   single   tertiary      no     1350     yes   no   \n",
       "3   30   management  married   tertiary      no     1476     yes  yes   \n",
       "4   59  blue-collar  married  secondary      no        0     yes   no   \n",
       "\n",
       "    contact  day month  duration  campaign  pdays  previous poutcome  \n",
       "0  cellular   19   oct        79         1     -1         0  unknown  \n",
       "1  cellular   11   may       220         1    339         4  failure  \n",
       "2  cellular   16   apr       185         1    330         1  failure  \n",
       "3   unknown    3   jun       199         4     -1         0  unknown  \n",
       "4   unknown    5   may       226         1     -1         0  unknown  "
      ]
     },
     "execution_count": 6,
     "metadata": {},
     "output_type": "execute_result"
    }
   ],
   "source": [
    "x.head()"
   ]
  },
  {
   "cell_type": "code",
   "execution_count": 7,
   "metadata": {
    "collapsed": false
   },
   "outputs": [
    {
     "data": {
      "text/plain": [
       "0    no\n",
       "1    no\n",
       "2    no\n",
       "3    no\n",
       "4    no\n",
       "Name: y, dtype: object"
      ]
     },
     "execution_count": 7,
     "metadata": {},
     "output_type": "execute_result"
    }
   ],
   "source": [
    "y.head()"
   ]
  },
  {
   "cell_type": "markdown",
   "metadata": {},
   "source": [
    "# Train-Test Split"
   ]
  },
  {
   "cell_type": "code",
   "execution_count": 8,
   "metadata": {
    "collapsed": true
   },
   "outputs": [],
   "source": [
    "from sklearn.model_selection import train_test_split\n",
    "x_train, x_test, y_train, y_test = train_test_split(x,y, test_size = 0.3, random_state=123)"
   ]
  },
  {
   "cell_type": "code",
   "execution_count": 9,
   "metadata": {
    "collapsed": false
   },
   "outputs": [],
   "source": [
    "categorical = [\"job\",\"marital\",\"education\",\"default\",\"housing\",\"loan\",\"contact\",\"month\",\"poutcome\"]\n",
    "numerical = list(x_train.drop(categorical, axis = 1))"
   ]
  },
  {
   "cell_type": "markdown",
   "metadata": {},
   "source": [
    "## Numerical imputation"
   ]
  },
  {
   "cell_type": "code",
   "execution_count": 68,
   "metadata": {
    "collapsed": true
   },
   "outputs": [],
   "source": [
    "from sklearn.preprocessing import Imputer\n",
    "imput_numerical = Imputer(missing_values = 'NaN', strategy = 'median' )"
   ]
  },
  {
   "cell_type": "code",
   "execution_count": 10,
   "metadata": {
    "collapsed": true
   },
   "outputs": [],
   "source": [
    "x_train_num = x_train[numerical]"
   ]
  },
  {
   "cell_type": "code",
   "execution_count": 11,
   "metadata": {
    "collapsed": false
   },
   "outputs": [
    {
     "data": {
      "text/plain": [
       "age         0\n",
       "balance     0\n",
       "day         0\n",
       "duration    0\n",
       "campaign    0\n",
       "pdays       0\n",
       "previous    0\n",
       "dtype: int64"
      ]
     },
     "execution_count": 11,
     "metadata": {},
     "output_type": "execute_result"
    }
   ],
   "source": [
    "x_train_num.isnull().sum()"
   ]
  },
  {
   "cell_type": "code",
   "execution_count": 12,
   "metadata": {
    "collapsed": true
   },
   "outputs": [],
   "source": [
    "x_train_cat = x_train[categorical]"
   ]
  },
  {
   "cell_type": "code",
   "execution_count": 13,
   "metadata": {
    "collapsed": false
   },
   "outputs": [
    {
     "data": {
      "text/plain": [
       "job          0\n",
       "marital      0\n",
       "education    0\n",
       "default      0\n",
       "housing      0\n",
       "loan         0\n",
       "contact      0\n",
       "month        0\n",
       "poutcome     0\n",
       "dtype: int64"
      ]
     },
     "execution_count": 13,
     "metadata": {},
     "output_type": "execute_result"
    }
   ],
   "source": [
    "x_train_cat.isnull().sum()"
   ]
  },
  {
   "cell_type": "code",
   "execution_count": 14,
   "metadata": {
    "collapsed": false
   },
   "outputs": [
    {
     "data": {
      "text/html": [
       "<div>\n",
       "<table border=\"1\" class=\"dataframe\">\n",
       "  <thead>\n",
       "    <tr style=\"text-align: right;\">\n",
       "      <th></th>\n",
       "      <th>job</th>\n",
       "      <th>marital</th>\n",
       "      <th>education</th>\n",
       "      <th>default</th>\n",
       "      <th>housing</th>\n",
       "      <th>loan</th>\n",
       "      <th>contact</th>\n",
       "      <th>month</th>\n",
       "      <th>poutcome</th>\n",
       "    </tr>\n",
       "  </thead>\n",
       "  <tbody>\n",
       "    <tr>\n",
       "      <th>3480</th>\n",
       "      <td>services</td>\n",
       "      <td>married</td>\n",
       "      <td>secondary</td>\n",
       "      <td>no</td>\n",
       "      <td>yes</td>\n",
       "      <td>no</td>\n",
       "      <td>unknown</td>\n",
       "      <td>jun</td>\n",
       "      <td>unknown</td>\n",
       "    </tr>\n",
       "    <tr>\n",
       "      <th>3344</th>\n",
       "      <td>blue-collar</td>\n",
       "      <td>single</td>\n",
       "      <td>primary</td>\n",
       "      <td>no</td>\n",
       "      <td>no</td>\n",
       "      <td>no</td>\n",
       "      <td>cellular</td>\n",
       "      <td>nov</td>\n",
       "      <td>unknown</td>\n",
       "    </tr>\n",
       "    <tr>\n",
       "      <th>1939</th>\n",
       "      <td>technician</td>\n",
       "      <td>married</td>\n",
       "      <td>secondary</td>\n",
       "      <td>no</td>\n",
       "      <td>yes</td>\n",
       "      <td>no</td>\n",
       "      <td>cellular</td>\n",
       "      <td>jun</td>\n",
       "      <td>unknown</td>\n",
       "    </tr>\n",
       "    <tr>\n",
       "      <th>834</th>\n",
       "      <td>unemployed</td>\n",
       "      <td>married</td>\n",
       "      <td>secondary</td>\n",
       "      <td>no</td>\n",
       "      <td>no</td>\n",
       "      <td>no</td>\n",
       "      <td>cellular</td>\n",
       "      <td>jul</td>\n",
       "      <td>unknown</td>\n",
       "    </tr>\n",
       "    <tr>\n",
       "      <th>3715</th>\n",
       "      <td>admin.</td>\n",
       "      <td>married</td>\n",
       "      <td>secondary</td>\n",
       "      <td>no</td>\n",
       "      <td>no</td>\n",
       "      <td>no</td>\n",
       "      <td>unknown</td>\n",
       "      <td>jun</td>\n",
       "      <td>unknown</td>\n",
       "    </tr>\n",
       "  </tbody>\n",
       "</table>\n",
       "</div>"
      ],
      "text/plain": [
       "              job  marital  education default housing loan   contact month  \\\n",
       "3480     services  married  secondary      no     yes   no   unknown   jun   \n",
       "3344  blue-collar   single    primary      no      no   no  cellular   nov   \n",
       "1939   technician  married  secondary      no     yes   no  cellular   jun   \n",
       "834    unemployed  married  secondary      no      no   no  cellular   jul   \n",
       "3715       admin.  married  secondary      no      no   no   unknown   jun   \n",
       "\n",
       "     poutcome  \n",
       "3480  unknown  \n",
       "3344  unknown  \n",
       "1939  unknown  \n",
       "834   unknown  \n",
       "3715  unknown  "
      ]
     },
     "execution_count": 14,
     "metadata": {},
     "output_type": "execute_result"
    }
   ],
   "source": [
    "x_train_cat.head()"
   ]
  },
  {
   "cell_type": "markdown",
   "metadata": {},
   "source": [
    "Tidak perlu imputation, data sudah lengkap"
   ]
  },
  {
   "cell_type": "markdown",
   "metadata": {},
   "source": [
    "## Preprocessing Categorical Variables"
   ]
  },
  {
   "cell_type": "code",
   "execution_count": 15,
   "metadata": {
    "collapsed": false
   },
   "outputs": [],
   "source": [
    "# Create dummy variables\n",
    "def dummyVariables(data, categorical_columns):\n",
    "    data_cat = data[categorical_columns]\n",
    "    data_cat = pd.get_dummies(data = data_cat, prefix = categorical_columns)\n",
    "    #prefix untuk memberikan nama depan di variable dummy sesuai dengan nama variable aslinya\n",
    "    \n",
    "    return data_cat\n",
    "\n",
    "categorical_dummies = dummyVariables(data = x_train_cat, categorical_columns = categorical)"
   ]
  },
  {
   "cell_type": "markdown",
   "metadata": {},
   "source": [
    "## Join Numerical and Categorcial"
   ]
  },
  {
   "cell_type": "code",
   "execution_count": 16,
   "metadata": {
    "collapsed": false
   },
   "outputs": [],
   "source": [
    "x_train = pd.concat([x_train_num, categorical_dummies], axis =1)"
   ]
  },
  {
   "cell_type": "markdown",
   "metadata": {},
   "source": [
    "## Normalizing/Standarizing Numerical Variables"
   ]
  },
  {
   "cell_type": "code",
   "execution_count": 17,
   "metadata": {
    "collapsed": false
   },
   "outputs": [],
   "source": [
    "from sklearn.preprocessing import StandardScaler\n",
    "\n",
    "def standardizer(data):\n",
    "    data_columns = data.columns\n",
    "    data_index = data.index\n",
    "    normalize = StandardScaler()\n",
    "    normalize.fit(data)\n",
    "    \n",
    "    normalized_data = pd. DataFrame(normalize.transform(data), index = data_index)\n",
    "    normalized_data.columns = data_columns\n",
    "    return normalized_data, normalize\n",
    "\n",
    "x_train, normalize = standardizer(x_train)"
   ]
  },
  {
   "cell_type": "code",
   "execution_count": 18,
   "metadata": {
    "collapsed": false
   },
   "outputs": [
    {
     "data": {
      "text/html": [
       "<div>\n",
       "<table border=\"1\" class=\"dataframe\">\n",
       "  <thead>\n",
       "    <tr style=\"text-align: right;\">\n",
       "      <th></th>\n",
       "      <th>age</th>\n",
       "      <th>balance</th>\n",
       "      <th>day</th>\n",
       "      <th>duration</th>\n",
       "      <th>campaign</th>\n",
       "      <th>pdays</th>\n",
       "      <th>previous</th>\n",
       "      <th>job_admin.</th>\n",
       "      <th>job_blue-collar</th>\n",
       "      <th>job_entrepreneur</th>\n",
       "      <th>...</th>\n",
       "      <th>month_jun</th>\n",
       "      <th>month_mar</th>\n",
       "      <th>month_may</th>\n",
       "      <th>month_nov</th>\n",
       "      <th>month_oct</th>\n",
       "      <th>month_sep</th>\n",
       "      <th>poutcome_failure</th>\n",
       "      <th>poutcome_other</th>\n",
       "      <th>poutcome_success</th>\n",
       "      <th>poutcome_unknown</th>\n",
       "    </tr>\n",
       "  </thead>\n",
       "  <tbody>\n",
       "    <tr>\n",
       "      <th>3480</th>\n",
       "      <td>0.533437</td>\n",
       "      <td>-0.320732</td>\n",
       "      <td>-0.463258</td>\n",
       "      <td>-0.695508</td>\n",
       "      <td>-0.559160</td>\n",
       "      <td>-0.415574</td>\n",
       "      <td>-0.325031</td>\n",
       "      <td>-0.347554</td>\n",
       "      <td>-0.505032</td>\n",
       "      <td>-0.198549</td>\n",
       "      <td>...</td>\n",
       "      <td>2.773501</td>\n",
       "      <td>-0.104224</td>\n",
       "      <td>-0.660966</td>\n",
       "      <td>-0.317052</td>\n",
       "      <td>-0.139032</td>\n",
       "      <td>-0.111714</td>\n",
       "      <td>-0.359435</td>\n",
       "      <td>-0.21436</td>\n",
       "      <td>-0.172084</td>\n",
       "      <td>0.479761</td>\n",
       "    </tr>\n",
       "    <tr>\n",
       "      <th>3344</th>\n",
       "      <td>-1.065032</td>\n",
       "      <td>-0.335370</td>\n",
       "      <td>0.632766</td>\n",
       "      <td>0.673694</td>\n",
       "      <td>-0.559160</td>\n",
       "      <td>-0.415574</td>\n",
       "      <td>-0.325031</td>\n",
       "      <td>-0.347554</td>\n",
       "      <td>1.980072</td>\n",
       "      <td>-0.198549</td>\n",
       "      <td>...</td>\n",
       "      <td>-0.360555</td>\n",
       "      <td>-0.104224</td>\n",
       "      <td>-0.660966</td>\n",
       "      <td>3.154060</td>\n",
       "      <td>-0.139032</td>\n",
       "      <td>-0.111714</td>\n",
       "      <td>-0.359435</td>\n",
       "      <td>-0.21436</td>\n",
       "      <td>-0.172084</td>\n",
       "      <td>0.479761</td>\n",
       "    </tr>\n",
       "    <tr>\n",
       "      <th>1939</th>\n",
       "      <td>0.345382</td>\n",
       "      <td>-0.361393</td>\n",
       "      <td>1.728789</td>\n",
       "      <td>-0.646898</td>\n",
       "      <td>-0.559160</td>\n",
       "      <td>-0.415574</td>\n",
       "      <td>-0.325031</td>\n",
       "      <td>-0.347554</td>\n",
       "      <td>-0.505032</td>\n",
       "      <td>-0.198549</td>\n",
       "      <td>...</td>\n",
       "      <td>2.773501</td>\n",
       "      <td>-0.104224</td>\n",
       "      <td>-0.660966</td>\n",
       "      <td>-0.317052</td>\n",
       "      <td>-0.139032</td>\n",
       "      <td>-0.111714</td>\n",
       "      <td>-0.359435</td>\n",
       "      <td>-0.21436</td>\n",
       "      <td>-0.172084</td>\n",
       "      <td>0.479761</td>\n",
       "    </tr>\n",
       "    <tr>\n",
       "      <th>834</th>\n",
       "      <td>0.815520</td>\n",
       "      <td>0.112553</td>\n",
       "      <td>1.607009</td>\n",
       "      <td>-0.229655</td>\n",
       "      <td>0.400440</td>\n",
       "      <td>-0.415574</td>\n",
       "      <td>-0.325031</td>\n",
       "      <td>-0.347554</td>\n",
       "      <td>-0.505032</td>\n",
       "      <td>-0.198549</td>\n",
       "      <td>...</td>\n",
       "      <td>-0.360555</td>\n",
       "      <td>-0.104224</td>\n",
       "      <td>-0.660966</td>\n",
       "      <td>-0.317052</td>\n",
       "      <td>-0.139032</td>\n",
       "      <td>-0.111714</td>\n",
       "      <td>-0.359435</td>\n",
       "      <td>-0.21436</td>\n",
       "      <td>-0.172084</td>\n",
       "      <td>0.479761</td>\n",
       "    </tr>\n",
       "    <tr>\n",
       "      <th>3715</th>\n",
       "      <td>0.909548</td>\n",
       "      <td>0.501274</td>\n",
       "      <td>0.145644</td>\n",
       "      <td>-0.727916</td>\n",
       "      <td>-0.239293</td>\n",
       "      <td>-0.415574</td>\n",
       "      <td>-0.325031</td>\n",
       "      <td>2.877254</td>\n",
       "      <td>-0.505032</td>\n",
       "      <td>-0.198549</td>\n",
       "      <td>...</td>\n",
       "      <td>2.773501</td>\n",
       "      <td>-0.104224</td>\n",
       "      <td>-0.660966</td>\n",
       "      <td>-0.317052</td>\n",
       "      <td>-0.139032</td>\n",
       "      <td>-0.111714</td>\n",
       "      <td>-0.359435</td>\n",
       "      <td>-0.21436</td>\n",
       "      <td>-0.172084</td>\n",
       "      <td>0.479761</td>\n",
       "    </tr>\n",
       "  </tbody>\n",
       "</table>\n",
       "<p>5 rows × 51 columns</p>\n",
       "</div>"
      ],
      "text/plain": [
       "           age   balance       day  duration  campaign     pdays  previous  \\\n",
       "3480  0.533437 -0.320732 -0.463258 -0.695508 -0.559160 -0.415574 -0.325031   \n",
       "3344 -1.065032 -0.335370  0.632766  0.673694 -0.559160 -0.415574 -0.325031   \n",
       "1939  0.345382 -0.361393  1.728789 -0.646898 -0.559160 -0.415574 -0.325031   \n",
       "834   0.815520  0.112553  1.607009 -0.229655  0.400440 -0.415574 -0.325031   \n",
       "3715  0.909548  0.501274  0.145644 -0.727916 -0.239293 -0.415574 -0.325031   \n",
       "\n",
       "      job_admin.  job_blue-collar  job_entrepreneur        ...         \\\n",
       "3480   -0.347554        -0.505032         -0.198549        ...          \n",
       "3344   -0.347554         1.980072         -0.198549        ...          \n",
       "1939   -0.347554        -0.505032         -0.198549        ...          \n",
       "834    -0.347554        -0.505032         -0.198549        ...          \n",
       "3715    2.877254        -0.505032         -0.198549        ...          \n",
       "\n",
       "      month_jun  month_mar  month_may  month_nov  month_oct  month_sep  \\\n",
       "3480   2.773501  -0.104224  -0.660966  -0.317052  -0.139032  -0.111714   \n",
       "3344  -0.360555  -0.104224  -0.660966   3.154060  -0.139032  -0.111714   \n",
       "1939   2.773501  -0.104224  -0.660966  -0.317052  -0.139032  -0.111714   \n",
       "834   -0.360555  -0.104224  -0.660966  -0.317052  -0.139032  -0.111714   \n",
       "3715   2.773501  -0.104224  -0.660966  -0.317052  -0.139032  -0.111714   \n",
       "\n",
       "      poutcome_failure  poutcome_other  poutcome_success  poutcome_unknown  \n",
       "3480         -0.359435        -0.21436         -0.172084          0.479761  \n",
       "3344         -0.359435        -0.21436         -0.172084          0.479761  \n",
       "1939         -0.359435        -0.21436         -0.172084          0.479761  \n",
       "834          -0.359435        -0.21436         -0.172084          0.479761  \n",
       "3715         -0.359435        -0.21436         -0.172084          0.479761  \n",
       "\n",
       "[5 rows x 51 columns]"
      ]
     },
     "execution_count": 18,
     "metadata": {},
     "output_type": "execute_result"
    }
   ],
   "source": [
    "x_train.head()"
   ]
  },
  {
   "cell_type": "code",
   "execution_count": 19,
   "metadata": {
    "collapsed": false
   },
   "outputs": [
    {
     "data": {
      "text/plain": [
       "no     0.881163\n",
       "yes    0.118837\n",
       "Name: y, dtype: float64"
      ]
     },
     "execution_count": 19,
     "metadata": {},
     "output_type": "execute_result"
    }
   ],
   "source": [
    "y_train.value_counts(normalize=True)"
   ]
  },
  {
   "cell_type": "markdown",
   "metadata": {},
   "source": [
    "## Training Machine Learning"
   ]
  },
  {
   "cell_type": "markdown",
   "metadata": {},
   "source": [
    "### 1. K-Nearest Neighbors"
   ]
  },
  {
   "cell_type": "code",
   "execution_count": 20,
   "metadata": {
    "collapsed": true
   },
   "outputs": [],
   "source": [
    "#1. Import classifier, Randomized Search\n",
    "from sklearn.neighbors import KNeighborsClassifier\n",
    "from sklearn.model_selection import RandomizedSearchCV"
   ]
  },
  {
   "cell_type": "code",
   "execution_count": 21,
   "metadata": {
    "collapsed": true
   },
   "outputs": [],
   "source": [
    "def knn_fit(x_train, y_train, scoring = 'accuracy'):\n",
    "    #scoring = 'accuracy' means in this case we use accuracy as score to find the best arameter\n",
    "    \n",
    "    knn = KNeighborsClassifier()\n",
    "    #defining classifier\n",
    "    \n",
    "    hyperparam = {'n_neighbors' : [5, 7, 8, 9, 10, 12, 14]}\n",
    "    random_knn = RandomizedSearchCV(knn, param_distributions = hyperparam, cv = 5,\n",
    "                                    n_iter = 3, scoring = scoring, n_jobs=-1, random_state=123)\n",
    "    \n",
    "    random_knn.fit(x_train, y_train)\n",
    "    \n",
    "    print \"Best Accuracy\", random_knn.best_score_\n",
    "    print \"Best Param\", random_knn.best_params_\n",
    "    return random_knn"
   ]
  },
  {
   "cell_type": "code",
   "execution_count": 22,
   "metadata": {
    "collapsed": false
   },
   "outputs": [
    {
     "name": "stdout",
     "output_type": "stream",
     "text": [
      "Best Accuracy 0.886852085967\n",
      "Best Param {'n_neighbors': 9}\n"
     ]
    }
   ],
   "source": [
    "best_knn = knn_fit(x_train, y_train)"
   ]
  },
  {
   "cell_type": "code",
   "execution_count": 23,
   "metadata": {
    "collapsed": false
   },
   "outputs": [
    {
     "data": {
      "text/plain": [
       "KNeighborsClassifier(algorithm='auto', leaf_size=30, metric='minkowski',\n",
       "           metric_params=None, n_jobs=1, n_neighbors=9, p=2,\n",
       "           weights='uniform')"
      ]
     },
     "execution_count": 23,
     "metadata": {},
     "output_type": "execute_result"
    }
   ],
   "source": [
    "#define KNN dengan k hasil dari Randomized Search\n",
    "knn = KNeighborsClassifier(n_neighbors= best_knn.best_params_.get('n_neighbors'))\n",
    "#fitting KNN\n",
    "knn.fit(x_train, y_train)"
   ]
  },
  {
   "cell_type": "code",
   "execution_count": 24,
   "metadata": {
    "collapsed": true
   },
   "outputs": [],
   "source": [
    "from sklearn.model_selection import cross_val_score"
   ]
  },
  {
   "cell_type": "code",
   "execution_count": 25,
   "metadata": {
    "collapsed": false
   },
   "outputs": [
    {
     "name": "stdout",
     "output_type": "stream",
     "text": [
      "Accuracy: 0.886857 (+/- 0.011192) \n",
      "Standard Deviation: 0.005596 \n"
     ]
    }
   ],
   "source": [
    "knnCV = cross_val_score(knn, x_train, y_train, cv=5, n_jobs =-1)\n",
    "print(\"Accuracy: %f (+/- %f) \\nStandard Deviation: %f \" % (knnCV.mean(), knnCV.std()*2,knnCV.std()))"
   ]
  },
  {
   "cell_type": "markdown",
   "metadata": {},
   "source": [
    "### 2. Logistic Regression"
   ]
  },
  {
   "cell_type": "code",
   "execution_count": 26,
   "metadata": {
    "collapsed": false
   },
   "outputs": [],
   "source": [
    "from sklearn.linear_model import LogisticRegression"
   ]
  },
  {
   "cell_type": "code",
   "execution_count": 27,
   "metadata": {
    "collapsed": false
   },
   "outputs": [],
   "source": [
    "def logreg_fit(x_train, y_train, scoring = 'accuracy'):\n",
    "    logreg = LogisticRegression(random_state=123)\n",
    "    \n",
    "    hyperparam = {'C': [1000, 333.33, 100, 33.33, 10, 3.33, 1, 0.33, 0.1, 0.033, 0.01, 0.0033, \n",
    "                        0.001, 0.00033, 0.0001]}\n",
    "    random_logreg = RandomizedSearchCV(logreg, param_distributions = hyperparam, cv = 5,\n",
    "                                    n_iter = 12, scoring = scoring, n_jobs=-1, random_state = 123)\n",
    "    \n",
    "    random_logreg.fit(x_train, y_train)\n",
    "    \n",
    "    print \"Best Accuracy\", random_logreg.best_score_\n",
    "    print \"Best Param\", random_logreg.best_params_\n",
    "    \n",
    "    return random_logreg "
   ]
  },
  {
   "cell_type": "code",
   "execution_count": 28,
   "metadata": {
    "collapsed": false
   },
   "outputs": [
    {
     "name": "stdout",
     "output_type": "stream",
     "text": [
      "Best Accuracy 0.897281921618\n",
      "Best Param {'C': 10}\n"
     ]
    }
   ],
   "source": [
    "best_logreg = logreg_fit(x_train, y_train) "
   ]
  },
  {
   "cell_type": "code",
   "execution_count": 29,
   "metadata": {
    "collapsed": false
   },
   "outputs": [
    {
     "data": {
      "text/plain": [
       "LogisticRegression(C=10, class_weight=None, dual=False, fit_intercept=True,\n",
       "          intercept_scaling=1, max_iter=100, multi_class='ovr', n_jobs=1,\n",
       "          penalty='l2', random_state=123, solver='liblinear', tol=0.0001,\n",
       "          verbose=0, warm_start=False)"
      ]
     },
     "execution_count": 29,
     "metadata": {},
     "output_type": "execute_result"
    }
   ],
   "source": [
    "logreg = LogisticRegression(C = best_logreg.best_params_.get('C'), random_state = 123)\n",
    "logreg.fit(x_train, y_train)"
   ]
  },
  {
   "cell_type": "code",
   "execution_count": 30,
   "metadata": {
    "collapsed": false
   },
   "outputs": [
    {
     "name": "stdout",
     "output_type": "stream",
     "text": [
      "Accuracy: 0.897292 (+/- 0.019862) \n",
      "Standard Deviation: 0.009931 \n"
     ]
    }
   ],
   "source": [
    "logregCV = cross_val_score(logreg, x_train, y_train, cv = 5, n_jobs=-1)\n",
    "print(\"Accuracy: %f (+/- %f) \\nStandard Deviation: %f \" % (logregCV.mean(), logregCV.std()*2,logregCV.std()))"
   ]
  },
  {
   "cell_type": "markdown",
   "metadata": {},
   "source": [
    "### 3. Linear SVC "
   ]
  },
  {
   "cell_type": "code",
   "execution_count": 31,
   "metadata": {
    "collapsed": true
   },
   "outputs": [],
   "source": [
    "from sklearn.svm import LinearSVC"
   ]
  },
  {
   "cell_type": "code",
   "execution_count": 32,
   "metadata": {
    "collapsed": true
   },
   "outputs": [],
   "source": [
    "def linSVC_fit(x_train, y_train, scoring = 'accuracy'):\n",
    "    linSVC = LinearSVC(random_state=123)\n",
    "\n",
    "    hyperparam = {'C': [1000, 333.33, 100, 33.33, 10, 3.33, 10, 3.33, 1, 0.33, 0.1, 0.033, 0.01, 0.0033, \n",
    "                        0.001, 0.00033, 0.0001]}\n",
    "\n",
    "    random_linSVC = RandomizedSearchCV(linSVC, param_distributions = hyperparam, cv = 5,\n",
    "                                    n_iter = 6, scoring = scoring, n_jobs=-1, random_state = 123, verbose = True)\n",
    "    \n",
    "    random_linSVC.fit(x_train, y_train)\n",
    "    \n",
    "    print \"Best Accuracy\", random_linSVC.best_score_\n",
    "    print \"Best Param\", random_linSVC.best_params_\n",
    "    \n",
    "    return random_linSVC "
   ]
  },
  {
   "cell_type": "code",
   "execution_count": 33,
   "metadata": {
    "collapsed": false
   },
   "outputs": [
    {
     "name": "stdout",
     "output_type": "stream",
     "text": [
      "Fitting 5 folds for each of 6 candidates, totalling 30 fits\n"
     ]
    },
    {
     "name": "stderr",
     "output_type": "stream",
     "text": [
      "[Parallel(n_jobs=-1)]: Done  30 out of  30 | elapsed:   11.9s finished\n"
     ]
    },
    {
     "name": "stdout",
     "output_type": "stream",
     "text": [
      "Best Accuracy 0.894437420986\n",
      "Best Param {'C': 1}\n"
     ]
    }
   ],
   "source": [
    "best_linSVC = linSVC_fit(x_train, y_train) "
   ]
  },
  {
   "cell_type": "code",
   "execution_count": 34,
   "metadata": {
    "collapsed": false
   },
   "outputs": [
    {
     "data": {
      "text/plain": [
       "LinearSVC(C=1, class_weight=None, dual=True, fit_intercept=True,\n",
       "     intercept_scaling=1, loss='squared_hinge', max_iter=1000,\n",
       "     multi_class='ovr', penalty='l2', random_state=123, tol=0.0001,\n",
       "     verbose=0)"
      ]
     },
     "execution_count": 34,
     "metadata": {},
     "output_type": "execute_result"
    }
   ],
   "source": [
    "linSVC = LinearSVC(C = best_linSVC.best_params_.get('C'), random_state = 123)\n",
    "linSVC.fit(x_train, y_train)"
   ]
  },
  {
   "cell_type": "code",
   "execution_count": 35,
   "metadata": {
    "collapsed": false
   },
   "outputs": [
    {
     "name": "stdout",
     "output_type": "stream",
     "text": [
      "Accuracy: 0.894445 (+/- 0.016458) \n",
      "Standard Deviation: 0.008229 \n"
     ]
    }
   ],
   "source": [
    "linSVCCV = cross_val_score(linSVC, x_train, y_train, cv = 5, n_jobs=-1)\n",
    "print(\"Accuracy: %f (+/- %f) \\nStandard Deviation: %f \" % (linSVCCV.mean(), linSVCCV.std()*2,linSVCCV.std()))"
   ]
  },
  {
   "cell_type": "markdown",
   "metadata": {},
   "source": [
    "### 4. RBF Kernel SVC"
   ]
  },
  {
   "cell_type": "code",
   "execution_count": 36,
   "metadata": {
    "collapsed": true
   },
   "outputs": [],
   "source": [
    "from sklearn.svm import SVC"
   ]
  },
  {
   "cell_type": "code",
   "execution_count": 37,
   "metadata": {
    "collapsed": true
   },
   "outputs": [],
   "source": [
    "def rbfSVC_fit(x_train, y_train, scoring = 'accuracy'):\n",
    "    rbfSVC = SVC(kernel = 'rbf', random_state=123)\n",
    "\n",
    "    hyperparam = {'C': [1000, 333.33, 100, 33.33, 10, 3.33, 10, 3.33, 1, 0.33, 0.1, 0.033, 0.01, 0.0033, \n",
    "                        0.001, 0.00033, 0.0001], \n",
    "                  'gamma' : [10, 3.33, 1, 0.33, 0.1, 0.033, 0.01]}\n",
    "\n",
    "    random_rbfSVC = RandomizedSearchCV(rbfSVC, param_distributions = hyperparam, cv = 3,\n",
    "                                    n_iter = 6, scoring = scoring, n_jobs=-1, random_state = 123)\n",
    "    \n",
    "    random_rbfSVC.fit(x_train, y_train)\n",
    "    \n",
    "    print \"Best Accuracy\", random_rbfSVC.best_score_\n",
    "    print \"Best Param\", random_rbfSVC.best_params_\n",
    "    \n",
    "    return random_rbfSVC "
   ]
  },
  {
   "cell_type": "code",
   "execution_count": 38,
   "metadata": {
    "collapsed": false
   },
   "outputs": [
    {
     "name": "stdout",
     "output_type": "stream",
     "text": [
      "Best Accuracy 0.881163084703\n",
      "Best Param {'C': 0.0033, 'gamma': 10}\n"
     ]
    }
   ],
   "source": [
    "best_rbfSVC = rbfSVC_fit(x_train, y_train) "
   ]
  },
  {
   "cell_type": "code",
   "execution_count": 39,
   "metadata": {
    "collapsed": false
   },
   "outputs": [
    {
     "data": {
      "text/plain": [
       "SVC(C=0.0033, cache_size=200, class_weight=None, coef0=0.0,\n",
       "  decision_function_shape=None, degree=3, gamma=10, kernel='rbf',\n",
       "  max_iter=-1, probability=False, random_state=123, shrinking=True,\n",
       "  tol=0.001, verbose=False)"
      ]
     },
     "execution_count": 39,
     "metadata": {},
     "output_type": "execute_result"
    }
   ],
   "source": [
    "rbfSVC = SVC(kernel = 'rbf', C = best_rbfSVC.best_params_.get('C'), \n",
    "             gamma = best_rbfSVC.best_params_.get('gamma'), random_state = 123)\n",
    "rbfSVC.fit(x_train, y_train)"
   ]
  },
  {
   "cell_type": "code",
   "execution_count": 40,
   "metadata": {
    "collapsed": false
   },
   "outputs": [
    {
     "name": "stdout",
     "output_type": "stream",
     "text": [
      "0.881163517234 0.000525399731442\n",
      "Accuracy: 0.881164 (+/- 0.001051) \n",
      "Standard Deviation: 0.000525 \n"
     ]
    }
   ],
   "source": [
    "rbfSVCCV = cross_val_score(rbfSVC, x_train, y_train, cv = 5, n_jobs=-1)\n",
    "print rbfSVCCV.mean(), rbfSVCCV.std()\n",
    "print(\"Accuracy: %f (+/- %f) \\nStandard Deviation: %f \" % (rbfSVCCV.mean(), rbfSVCCV.std()*2,rbfSVCCV.std()))"
   ]
  },
  {
   "cell_type": "markdown",
   "metadata": {},
   "source": [
    "### 5. Decision Tree "
   ]
  },
  {
   "cell_type": "code",
   "execution_count": 41,
   "metadata": {
    "collapsed": true
   },
   "outputs": [],
   "source": [
    "from sklearn.tree import DecisionTreeClassifier"
   ]
  },
  {
   "cell_type": "code",
   "execution_count": 42,
   "metadata": {
    "collapsed": true
   },
   "outputs": [],
   "source": [
    "def decTree_fit(x_train, y_train, scoring = 'accuracy'):\n",
    "    decTree = DecisionTreeClassifier(random_state=123)\n",
    "\n",
    "    hyperparam = {'min_samples_leaf': [3, 5, 7, 9, 13, 17, 21, 27, 33, 41, 50, 60, 80, 100],\n",
    "                  'max_features': ['sqrt', 'log2', 0.25, 0.5, 0.75]}\n",
    "\n",
    "    random_decTree = RandomizedSearchCV(decTree, param_distributions = hyperparam, cv = 5,\n",
    "                                        n_iter = 15, scoring = scoring, n_jobs=-1, random_state = 123)\n",
    "    \n",
    "    random_decTree.fit(x_train, y_train)\n",
    "    \n",
    "    print \"Best Accuracy\", random_decTree.best_score_\n",
    "    print \"Best Param\", random_decTree.best_params_\n",
    "    \n",
    "    return random_decTree"
   ]
  },
  {
   "cell_type": "code",
   "execution_count": 43,
   "metadata": {
    "collapsed": false
   },
   "outputs": [
    {
     "name": "stdout",
     "output_type": "stream",
     "text": [
      "Best Accuracy 0.887168141593\n",
      "Best Param {'max_features': 0.5, 'min_samples_leaf': 33}\n"
     ]
    }
   ],
   "source": [
    "best_decTree = decTree_fit(x_train, y_train)"
   ]
  },
  {
   "cell_type": "code",
   "execution_count": 44,
   "metadata": {
    "collapsed": false
   },
   "outputs": [
    {
     "data": {
      "text/plain": [
       "DecisionTreeClassifier(class_weight=None, criterion='gini', max_depth=None,\n",
       "            max_features=0.5, max_leaf_nodes=None,\n",
       "            min_impurity_split=1e-07, min_samples_leaf=33,\n",
       "            min_samples_split=2, min_weight_fraction_leaf=0.0,\n",
       "            presort=False, random_state=123, splitter='best')"
      ]
     },
     "execution_count": 44,
     "metadata": {},
     "output_type": "execute_result"
    }
   ],
   "source": [
    "decTree = DecisionTreeClassifier(min_samples_leaf = best_decTree.best_params_.get('min_samples_leaf'),\n",
    "                                 max_features = best_decTree.best_params_.get('max_features'), random_state=123)\n",
    "decTree.fit(x_train, y_train)"
   ]
  },
  {
   "cell_type": "code",
   "execution_count": 45,
   "metadata": {
    "collapsed": false
   },
   "outputs": [
    {
     "name": "stdout",
     "output_type": "stream",
     "text": [
      "0.887179167156 0.0129918285071\n"
     ]
    }
   ],
   "source": [
    "decTreeCV = cross_val_score(decTree, x_train, y_train, cv = 5, n_jobs=-1)\n",
    "print decTreeCV.mean(), decTreeCV.std()"
   ]
  },
  {
   "cell_type": "markdown",
   "metadata": {},
   "source": [
    "### 6. Bootstrap Aggregating "
   ]
  },
  {
   "cell_type": "code",
   "execution_count": 46,
   "metadata": {
    "collapsed": true
   },
   "outputs": [],
   "source": [
    "from sklearn.ensemble import BaggingClassifier, RandomForestClassifier, GradientBoostingClassifier"
   ]
  },
  {
   "cell_type": "code",
   "execution_count": 47,
   "metadata": {
    "collapsed": true
   },
   "outputs": [],
   "source": [
    "def bagging_fit(x_train, y_train, scoring = 'accuracy'):\n",
    "    decTree = DecisionTreeClassifier(random_state=123)\n",
    "    \n",
    "    bagging = BaggingClassifier(base_estimator = decTree, random_state=123, n_jobs=-1)\n",
    "    \n",
    "    hyperparam = {'base_estimator__min_samples_leaf': [1, 2, 3, 4, 5, 7, 9, 10, 11, 12, 13, 14, 15, 17, 21],\n",
    "                  'n_estimators': [ 300, 500, 600, 750, 800, 850, 875, 900, 1000]}\n",
    "    # 'base_estimator__' sebelum 'min_samples_leaf' menandakan hyperparameter yang dicari ada di dalam base estimatornya\n",
    "    # dalam hal ini berarti decTree\n",
    "    # (min_samples_leaf ada di dalam decTree)\n",
    "    \n",
    "    random_bagging = RandomizedSearchCV(bagging, param_distributions = hyperparam, cv = 5, \n",
    "                                           n_iter = 10, scoring = scoring, n_jobs=-1, random_state = 123)\n",
    "    random_bagging.fit(x_train, y_train)\n",
    "    \n",
    "    print \"Best Accuracy\", random_bagging.best_score_\n",
    "    print \"Best Param\", random_bagging.best_params_\n",
    "    return random_bagging"
   ]
  },
  {
   "cell_type": "code",
   "execution_count": 48,
   "metadata": {
    "collapsed": false
   },
   "outputs": [
    {
     "name": "stdout",
     "output_type": "stream",
     "text": [
      "Best Accuracy 0.893173198483\n",
      "Best Param {'n_estimators': 900, 'base_estimator__min_samples_leaf': 12}\n"
     ]
    }
   ],
   "source": [
    "best_bagging = bagging_fit(x_train, y_train)"
   ]
  },
  {
   "cell_type": "code",
   "execution_count": 49,
   "metadata": {
    "collapsed": false
   },
   "outputs": [
    {
     "data": {
      "text/plain": [
       "BaggingClassifier(base_estimator=DecisionTreeClassifier(class_weight=None, criterion='gini', max_depth=None,\n",
       "            max_features=None, max_leaf_nodes=None,\n",
       "            min_impurity_split=1e-07, min_samples_leaf=12,\n",
       "            min_samples_split=2, min_weight_fraction_leaf=0.0,\n",
       "            presort=False, random_state=123, splitter='best'),\n",
       "         bootstrap=True, bootstrap_features=False, max_features=1.0,\n",
       "         max_samples=1.0, n_estimators=900, n_jobs=-1, oob_score=False,\n",
       "         random_state=123, verbose=0, warm_start=False)"
      ]
     },
     "execution_count": 49,
     "metadata": {},
     "output_type": "execute_result"
    }
   ],
   "source": [
    "decTreeBag = DecisionTreeClassifier(min_samples_leaf = best_bagging.best_params_.get('base_estimator__min_samples_leaf'),\n",
    "                                    random_state=123)\n",
    "bagging = BaggingClassifier(base_estimator = decTreeBag, \n",
    "                            n_estimators = best_bagging.best_params_.get('n_estimators'),\n",
    "                            random_state=123, n_jobs=-1)\n",
    "bagging.fit(x_train, y_train)"
   ]
  },
  {
   "cell_type": "code",
   "execution_count": 50,
   "metadata": {
    "collapsed": false
   },
   "outputs": [
    {
     "name": "stdout",
     "output_type": "stream",
     "text": [
      "0.893179347636 0.0119640548158\n"
     ]
    }
   ],
   "source": [
    "baggingCV = cross_val_score(bagging, x_train, y_train, cv=5, n_jobs = -1)\n",
    "print baggingCV.mean(), baggingCV.std()"
   ]
  },
  {
   "cell_type": "markdown",
   "metadata": {},
   "source": [
    "### 7. Random Forest"
   ]
  },
  {
   "cell_type": "code",
   "execution_count": 51,
   "metadata": {
    "collapsed": false
   },
   "outputs": [],
   "source": [
    "def randomForest_fit(x_train, y_train, scoring = 'accuracy'):\n",
    "    randomForest = RandomForestClassifier(random_state=123)\n",
    "\n",
    "    hyperparam = {'min_samples_leaf': [3, 5, 7, 9, 13, 17, 21, 27, 33, 41, 50, 60, 80, 100],\n",
    "                  'max_features': ['sqrt', 'log2', 0.25, 0.5, 0.75], \n",
    "                  'n_estimators': [100, 200, 300, 500, 750, 1000]}\n",
    "    \n",
    "    random_randomForest = RandomizedSearchCV(randomForest, param_distributions = hyperparam, cv = 5, \n",
    "                                           n_iter = 6, scoring = scoring, n_jobs=-1, random_state = 123)\n",
    "    random_randomForest.fit(x_train, y_train)\n",
    "    \n",
    "    print \"Best Accuracy\", random_randomForest.best_score_\n",
    "    print \"Best Param\", random_randomForest.best_params_\n",
    "    return random_randomForest"
   ]
  },
  {
   "cell_type": "code",
   "execution_count": 52,
   "metadata": {
    "collapsed": false
   },
   "outputs": [
    {
     "name": "stdout",
     "output_type": "stream",
     "text": [
      "Best Accuracy 0.892225031606\n",
      "Best Param {'n_estimators': 300, 'max_features': 0.75, 'min_samples_leaf': 17}\n"
     ]
    }
   ],
   "source": [
    "best_randForest = randomForest_fit(x_train, y_train)"
   ]
  },
  {
   "cell_type": "code",
   "execution_count": 53,
   "metadata": {
    "collapsed": false
   },
   "outputs": [
    {
     "data": {
      "text/plain": [
       "RandomForestClassifier(bootstrap=True, class_weight=None, criterion='gini',\n",
       "            max_depth=None, max_features=0.75, max_leaf_nodes=None,\n",
       "            min_impurity_split=1e-07, min_samples_leaf=17,\n",
       "            min_samples_split=2, min_weight_fraction_leaf=0.0,\n",
       "            n_estimators=300, n_jobs=-1, oob_score=False, random_state=123,\n",
       "            verbose=0, warm_start=False)"
      ]
     },
     "execution_count": 53,
     "metadata": {},
     "output_type": "execute_result"
    }
   ],
   "source": [
    "randForest = RandomForestClassifier(random_state=123, n_jobs = -1,\n",
    "                                   min_samples_leaf = best_randForest.best_params_.get('min_samples_leaf'),\n",
    "                                   max_features = best_randForest.best_params_.get('max_features'),\n",
    "                                   n_estimators = best_randForest.best_params_.get('n_estimators'))\n",
    "randForest.fit(x_train, y_train)"
   ]
  },
  {
   "cell_type": "code",
   "execution_count": 54,
   "metadata": {
    "collapsed": false
   },
   "outputs": [
    {
     "name": "stdout",
     "output_type": "stream",
     "text": [
      "0.892230980407 0.0117045406636\n"
     ]
    }
   ],
   "source": [
    "randForestCV = cross_val_score(randForest, x_train, y_train, cv=5, n_jobs = -1)\n",
    "print randForestCV.mean(), randForestCV.std()"
   ]
  },
  {
   "cell_type": "markdown",
   "metadata": {},
   "source": [
    "### 8. Adaptive Boosting "
   ]
  },
  {
   "cell_type": "code",
   "execution_count": 55,
   "metadata": {
    "collapsed": true
   },
   "outputs": [],
   "source": [
    "from sklearn.ensemble import AdaBoostClassifier"
   ]
  },
  {
   "cell_type": "code",
   "execution_count": 56,
   "metadata": {
    "collapsed": true
   },
   "outputs": [],
   "source": [
    "def adaboost_fit(x_train, y_train, scoring = 'accuracy'):\n",
    "    decTree = DecisionTreeClassifier(random_state=123)\n",
    "    \n",
    "    adaboost = AdaBoostClassifier(base_estimator = decTree, random_state=123)\n",
    "    \n",
    "    hyperparam = {'base_estimator__min_samples_leaf': [3, 5, 7, 9, 13, 17, 21, 27, 33, 41, 50, 60, 80, 100],\n",
    "                  'base_estimator__max_features': ['sqrt', 'log2', 0.25, 0.5, 0.75],\n",
    "                  'learning_rate': [0.01, 0.015, 0.02, 0.05, 0.08, 0.1],\n",
    "                  'n_estimators': [100, 200, 300, 500, 750, 1000]}\n",
    "    \n",
    "    random_adaboost = RandomizedSearchCV(adaboost, param_distributions = hyperparam, cv = 5, \n",
    "                                           n_iter = 6, scoring = scoring, n_jobs=-1, random_state = 123)\n",
    "    random_adaboost.fit(x_train, y_train)\n",
    "    \n",
    "    print \"Best Accuracy\", random_adaboost.best_score_\n",
    "    print \"Best Param\", random_adaboost.best_params_\n",
    "    return random_adaboost"
   ]
  },
  {
   "cell_type": "code",
   "execution_count": 57,
   "metadata": {
    "collapsed": false
   },
   "outputs": [
    {
     "name": "stdout",
     "output_type": "stream",
     "text": [
      "Best Accuracy 0.889696586599\n",
      "Best Param {'n_estimators': 100, 'learning_rate': 0.015, 'base_estimator__min_samples_leaf': 9, 'base_estimator__max_features': 0.25}\n"
     ]
    }
   ],
   "source": [
    "best_adaboost = adaboost_fit(x_train, y_train)"
   ]
  },
  {
   "cell_type": "code",
   "execution_count": 58,
   "metadata": {
    "collapsed": false
   },
   "outputs": [
    {
     "data": {
      "text/plain": [
       "AdaBoostClassifier(algorithm='SAMME.R',\n",
       "          base_estimator=DecisionTreeClassifier(class_weight=None, criterion='gini', max_depth=None,\n",
       "            max_features=0.25, max_leaf_nodes=None,\n",
       "            min_impurity_split=1e-07, min_samples_leaf=9,\n",
       "            min_samples_split=2, min_weight_fraction_leaf=0.0,\n",
       "            presort=False, random_state=123, splitter='best'),\n",
       "          learning_rate=0.015, n_estimators=100, random_state=123)"
      ]
     },
     "execution_count": 58,
     "metadata": {},
     "output_type": "execute_result"
    }
   ],
   "source": [
    "decTreeBoost = DecisionTreeClassifier(min_samples_leaf = best_adaboost.best_params_.get('base_estimator__min_samples_leaf'),\n",
    "                                      max_features = best_adaboost.best_params_.get('base_estimator__max_features'),\n",
    "                                      random_state=123)\n",
    "adaboost = AdaBoostClassifier(base_estimator = decTreeBoost, \n",
    "                             n_estimators = best_adaboost.best_params_.get('n_estimators'),\n",
    "                             learning_rate = best_adaboost.best_params_.get('learning_rate'),\n",
    "                             random_state=123)\n",
    "adaboost.fit(x_train, y_train)"
   ]
  },
  {
   "cell_type": "code",
   "execution_count": 59,
   "metadata": {
    "collapsed": false
   },
   "outputs": [
    {
     "name": "stdout",
     "output_type": "stream",
     "text": [
      "0.889697824008 0.00685714772795\n"
     ]
    }
   ],
   "source": [
    "adaboostCV = cross_val_score(adaboost, x_train, y_train, cv=5, n_jobs = -1)\n",
    "print adaboostCV.mean(), adaboostCV.std()"
   ]
  },
  {
   "cell_type": "markdown",
   "metadata": {},
   "source": [
    "### 9. Gradient Boosting "
   ]
  },
  {
   "cell_type": "code",
   "execution_count": 60,
   "metadata": {
    "collapsed": true
   },
   "outputs": [],
   "source": [
    "def gradBoost_fit(x_train, y_train, scoring = 'accuracy'):\n",
    "    gradBoost = GradientBoostingClassifier(random_state=123)\n",
    "    \n",
    "    hyperparam = {'min_samples_leaf': [3, 5, 7, 9, 13, 17, 21, 27, 33, 41, 50, 60, 80, 100],\n",
    "                  'max_features': ['sqrt', 'log2', 0.25, 0.5, 0.75], \n",
    "                  'n_estimators': [100, 200, 300, 500, 750, 1000],\n",
    "                  'learning_rate': [0.01, 0.015, 0.02, 0.05, 0.08, 0.1] }\n",
    "    random_gradBoost = RandomizedSearchCV(gradBoost, param_distributions = hyperparam, cv = 5,\n",
    "                                          n_iter = 6, scoring = scoring, n_jobs=-1, \n",
    "                                          random_state = 123, verbose = True)\n",
    "    random_gradBoost.fit(x_train, y_train)\n",
    "    \n",
    "    print \"Best Accuracy\", random_gradBoost.score(x_train, y_train)\n",
    "    print \"Best Param\", random_gradBoost.best_params_\n",
    "    return random_gradBoost"
   ]
  },
  {
   "cell_type": "code",
   "execution_count": 61,
   "metadata": {
    "collapsed": false
   },
   "outputs": [
    {
     "name": "stdout",
     "output_type": "stream",
     "text": [
      "Fitting 5 folds for each of 6 candidates, totalling 30 fits\n"
     ]
    },
    {
     "name": "stderr",
     "output_type": "stream",
     "text": [
      "[Parallel(n_jobs=-1)]: Done  30 out of  30 | elapsed:   12.1s finished\n"
     ]
    },
    {
     "name": "stdout",
     "output_type": "stream",
     "text": [
      "Best Accuracy 0.910240202276\n",
      "Best Param {'n_estimators': 100, 'max_features': 'sqrt', 'learning_rate': 0.1, 'min_samples_leaf': 41}\n"
     ]
    }
   ],
   "source": [
    "best_gradBoost = gradBoost_fit(x_train, y_train, scoring = \"accuracy\")"
   ]
  },
  {
   "cell_type": "code",
   "execution_count": 62,
   "metadata": {
    "collapsed": false
   },
   "outputs": [
    {
     "data": {
      "text/plain": [
       "GradientBoostingClassifier(criterion='friedman_mse', init=None,\n",
       "              learning_rate=0.1, loss='deviance', max_depth=3,\n",
       "              max_features='sqrt', max_leaf_nodes=None,\n",
       "              min_impurity_split=1e-07, min_samples_leaf=41,\n",
       "              min_samples_split=2, min_weight_fraction_leaf=0.0,\n",
       "              n_estimators=100, presort='auto', random_state=123,\n",
       "              subsample=1.0, verbose=0, warm_start=False)"
      ]
     },
     "execution_count": 62,
     "metadata": {},
     "output_type": "execute_result"
    }
   ],
   "source": [
    "gradBoost = GradientBoostingClassifier(n_estimators=best_gradBoost.best_params_.get('n_estimators'),\n",
    "                                       min_samples_leaf = best_gradBoost.best_params_.get('min_samples_leaf'),\n",
    "                                       max_features = best_gradBoost.best_params_.get('max_features'),\n",
    "                                       learning_rate = best_gradBoost.best_params_.get('learning_rate'), random_state=123)\n",
    "gradBoost.fit(x_train, y_train)"
   ]
  },
  {
   "cell_type": "code",
   "execution_count": 63,
   "metadata": {
    "collapsed": false
   },
   "outputs": [
    {
     "name": "stdout",
     "output_type": "stream",
     "text": [
      "0.897607226156 0.0111092957201\n"
     ]
    }
   ],
   "source": [
    "gradBoostCV = cross_val_score(gradBoost, x_train, y_train, cv=5, n_jobs = -1)\n",
    "print gradBoostCV.mean(), gradBoostCV.std()"
   ]
  },
  {
   "cell_type": "markdown",
   "metadata": {},
   "source": [
    "## Save Model"
   ]
  },
  {
   "cell_type": "code",
   "execution_count": 64,
   "metadata": {
    "collapsed": false
   },
   "outputs": [
    {
     "data": {
      "text/plain": [
       "['model/gradientBoosting.pkl']"
      ]
     },
     "execution_count": 64,
     "metadata": {},
     "output_type": "execute_result"
    }
   ],
   "source": [
    "from sklearn.externals import joblib\n",
    "\n",
    "joblib.dump(knn, 'model/knn.pkl')\n",
    "joblib.dump(logreg, 'model/logreg.pkl')\n",
    "joblib.dump(linSVC, 'model/linearSVC.pkl')\n",
    "joblib.dump(rbfSVC, 'model/rbfSVC.pkl')\n",
    "joblib.dump(decTree, 'model/decisionTree.pkl')\n",
    "joblib.dump(bagging, 'model/bagging.pkl')\n",
    "joblib.dump(randForest, 'model/randomForest.pkl')\n",
    "joblib.dump(adaboost, 'model/adaboost.pkl')\n",
    "joblib.dump(gradBoost, 'model/gradientBoosting.pkl')"
   ]
  },
  {
   "cell_type": "markdown",
   "metadata": {},
   "source": [
    "## Test Model "
   ]
  },
  {
   "cell_type": "markdown",
   "metadata": {},
   "source": [
    "### Preprocessing Test Data  "
   ]
  },
  {
   "cell_type": "markdown",
   "metadata": {},
   "source": [
    "Preprocessing Test Data dilakukan mirip dengan train data yang kita lakukan tadi"
   ]
  },
  {
   "cell_type": "code",
   "execution_count": 65,
   "metadata": {
    "collapsed": false
   },
   "outputs": [],
   "source": [
    "def testData(data, numerical_columns, categorical_columns, imput_numerical, standard):\n",
    "    numerical_data = data[numerical_columns]\n",
    "    categorical_data = data[categorical_columns]\n",
    "    imput_numerical.fit(numerical_data)\n",
    "    \n",
    "    numerical_data = pd.DataFrame(imput_numerical.transform(numerical_data), index = data.index) # imput numerical test\n",
    "    numerical_data.columns = numerical_columns\n",
    "    categorical_data = categorical_data.fillna(value=\"KOSONG\") # imput categorical\n",
    "    categorical_data = pd.get_dummies(categorical_data) # Dummies categorical\n",
    "\n",
    "    x_valid = pd.concat([ numerical_data, categorical_data], axis = 1)\n",
    "    x_valid_transform = pd.DataFrame(standard.transform(x_valid), index = data.index) # standardization\n",
    "    x_valid_transform.columns = x_valid.columns # samakan nama column\n",
    "        \n",
    "    return x_valid_transform"
   ]
  },
  {
   "cell_type": "code",
   "execution_count": 69,
   "metadata": {
    "collapsed": false
   },
   "outputs": [],
   "source": [
    "x_test = testData(  numerical_columns=numerical,\n",
    "                        categorical_columns = categorical,\n",
    "                        data = x_test,\n",
    "                        imput_numerical = imput_numerical,\n",
    "                        standard = normalize)"
   ]
  },
  {
   "cell_type": "code",
   "execution_count": 70,
   "metadata": {
    "collapsed": false
   },
   "outputs": [
    {
     "data": {
      "text/plain": [
       "(1357, 51)"
      ]
     },
     "execution_count": 70,
     "metadata": {},
     "output_type": "execute_result"
    }
   ],
   "source": [
    "x_test.shape"
   ]
  },
  {
   "cell_type": "code",
   "execution_count": 71,
   "metadata": {
    "collapsed": false
   },
   "outputs": [
    {
     "data": {
      "text/html": [
       "<div>\n",
       "<table border=\"1\" class=\"dataframe\">\n",
       "  <thead>\n",
       "    <tr style=\"text-align: right;\">\n",
       "      <th></th>\n",
       "      <th>age</th>\n",
       "      <th>balance</th>\n",
       "      <th>day</th>\n",
       "      <th>duration</th>\n",
       "      <th>campaign</th>\n",
       "      <th>pdays</th>\n",
       "      <th>previous</th>\n",
       "      <th>job_admin.</th>\n",
       "      <th>job_blue-collar</th>\n",
       "      <th>job_entrepreneur</th>\n",
       "      <th>...</th>\n",
       "      <th>month_jun</th>\n",
       "      <th>month_mar</th>\n",
       "      <th>month_may</th>\n",
       "      <th>month_nov</th>\n",
       "      <th>month_oct</th>\n",
       "      <th>month_sep</th>\n",
       "      <th>poutcome_failure</th>\n",
       "      <th>poutcome_other</th>\n",
       "      <th>poutcome_success</th>\n",
       "      <th>poutcome_unknown</th>\n",
       "    </tr>\n",
       "  </thead>\n",
       "  <tbody>\n",
       "    <tr>\n",
       "      <th>2982</th>\n",
       "      <td>-0.312811</td>\n",
       "      <td>-0.086199</td>\n",
       "      <td>-0.950380</td>\n",
       "      <td>1.629706</td>\n",
       "      <td>-0.559160</td>\n",
       "      <td>-0.415574</td>\n",
       "      <td>-0.325031</td>\n",
       "      <td>-0.347554</td>\n",
       "      <td>-0.505032</td>\n",
       "      <td>-0.198549</td>\n",
       "      <td>...</td>\n",
       "      <td>-0.360555</td>\n",
       "      <td>-0.104224</td>\n",
       "      <td>1.512938</td>\n",
       "      <td>-0.317052</td>\n",
       "      <td>-0.139032</td>\n",
       "      <td>-0.111714</td>\n",
       "      <td>-0.359435</td>\n",
       "      <td>-0.21436</td>\n",
       "      <td>-0.172084</td>\n",
       "      <td>0.479761</td>\n",
       "    </tr>\n",
       "    <tr>\n",
       "      <th>276</th>\n",
       "      <td>-0.594894</td>\n",
       "      <td>3.185562</td>\n",
       "      <td>-0.463258</td>\n",
       "      <td>1.767436</td>\n",
       "      <td>-0.239293</td>\n",
       "      <td>0.365881</td>\n",
       "      <td>0.257301</td>\n",
       "      <td>-0.347554</td>\n",
       "      <td>-0.505032</td>\n",
       "      <td>-0.198549</td>\n",
       "      <td>...</td>\n",
       "      <td>-0.360555</td>\n",
       "      <td>-0.104224</td>\n",
       "      <td>-0.660966</td>\n",
       "      <td>-0.317052</td>\n",
       "      <td>-0.139032</td>\n",
       "      <td>-0.111714</td>\n",
       "      <td>2.782145</td>\n",
       "      <td>-0.21436</td>\n",
       "      <td>-0.172084</td>\n",
       "      <td>-2.084369</td>\n",
       "    </tr>\n",
       "    <tr>\n",
       "      <th>4132</th>\n",
       "      <td>-0.406839</td>\n",
       "      <td>-0.118077</td>\n",
       "      <td>1.850570</td>\n",
       "      <td>0.608880</td>\n",
       "      <td>-0.239293</td>\n",
       "      <td>-0.415574</td>\n",
       "      <td>-0.325031</td>\n",
       "      <td>-0.347554</td>\n",
       "      <td>-0.505032</td>\n",
       "      <td>-0.198549</td>\n",
       "      <td>...</td>\n",
       "      <td>-0.360555</td>\n",
       "      <td>-0.104224</td>\n",
       "      <td>-0.660966</td>\n",
       "      <td>-0.317052</td>\n",
       "      <td>-0.139032</td>\n",
       "      <td>-0.111714</td>\n",
       "      <td>-0.359435</td>\n",
       "      <td>-0.21436</td>\n",
       "      <td>-0.172084</td>\n",
       "      <td>0.479761</td>\n",
       "    </tr>\n",
       "    <tr>\n",
       "      <th>511</th>\n",
       "      <td>-0.876977</td>\n",
       "      <td>-0.197122</td>\n",
       "      <td>0.145644</td>\n",
       "      <td>1.925421</td>\n",
       "      <td>0.080573</td>\n",
       "      <td>-0.415574</td>\n",
       "      <td>-0.325031</td>\n",
       "      <td>-0.347554</td>\n",
       "      <td>-0.505032</td>\n",
       "      <td>-0.198549</td>\n",
       "      <td>...</td>\n",
       "      <td>-0.360555</td>\n",
       "      <td>-0.104224</td>\n",
       "      <td>-0.660966</td>\n",
       "      <td>-0.317052</td>\n",
       "      <td>-0.139032</td>\n",
       "      <td>-0.111714</td>\n",
       "      <td>-0.359435</td>\n",
       "      <td>-0.21436</td>\n",
       "      <td>-0.172084</td>\n",
       "      <td>0.479761</td>\n",
       "    </tr>\n",
       "    <tr>\n",
       "      <th>2061</th>\n",
       "      <td>-0.971005</td>\n",
       "      <td>-0.571530</td>\n",
       "      <td>0.876326</td>\n",
       "      <td>-0.241808</td>\n",
       "      <td>0.720306</td>\n",
       "      <td>-0.415574</td>\n",
       "      <td>-0.325031</td>\n",
       "      <td>-0.347554</td>\n",
       "      <td>-0.505032</td>\n",
       "      <td>-0.198549</td>\n",
       "      <td>...</td>\n",
       "      <td>-0.360555</td>\n",
       "      <td>-0.104224</td>\n",
       "      <td>1.512938</td>\n",
       "      <td>-0.317052</td>\n",
       "      <td>-0.139032</td>\n",
       "      <td>-0.111714</td>\n",
       "      <td>-0.359435</td>\n",
       "      <td>-0.21436</td>\n",
       "      <td>-0.172084</td>\n",
       "      <td>0.479761</td>\n",
       "    </tr>\n",
       "  </tbody>\n",
       "</table>\n",
       "<p>5 rows × 51 columns</p>\n",
       "</div>"
      ],
      "text/plain": [
       "           age   balance       day  duration  campaign     pdays  previous  \\\n",
       "2982 -0.312811 -0.086199 -0.950380  1.629706 -0.559160 -0.415574 -0.325031   \n",
       "276  -0.594894  3.185562 -0.463258  1.767436 -0.239293  0.365881  0.257301   \n",
       "4132 -0.406839 -0.118077  1.850570  0.608880 -0.239293 -0.415574 -0.325031   \n",
       "511  -0.876977 -0.197122  0.145644  1.925421  0.080573 -0.415574 -0.325031   \n",
       "2061 -0.971005 -0.571530  0.876326 -0.241808  0.720306 -0.415574 -0.325031   \n",
       "\n",
       "      job_admin.  job_blue-collar  job_entrepreneur        ...         \\\n",
       "2982   -0.347554        -0.505032         -0.198549        ...          \n",
       "276    -0.347554        -0.505032         -0.198549        ...          \n",
       "4132   -0.347554        -0.505032         -0.198549        ...          \n",
       "511    -0.347554        -0.505032         -0.198549        ...          \n",
       "2061   -0.347554        -0.505032         -0.198549        ...          \n",
       "\n",
       "      month_jun  month_mar  month_may  month_nov  month_oct  month_sep  \\\n",
       "2982  -0.360555  -0.104224   1.512938  -0.317052  -0.139032  -0.111714   \n",
       "276   -0.360555  -0.104224  -0.660966  -0.317052  -0.139032  -0.111714   \n",
       "4132  -0.360555  -0.104224  -0.660966  -0.317052  -0.139032  -0.111714   \n",
       "511   -0.360555  -0.104224  -0.660966  -0.317052  -0.139032  -0.111714   \n",
       "2061  -0.360555  -0.104224   1.512938  -0.317052  -0.139032  -0.111714   \n",
       "\n",
       "      poutcome_failure  poutcome_other  poutcome_success  poutcome_unknown  \n",
       "2982         -0.359435        -0.21436         -0.172084          0.479761  \n",
       "276           2.782145        -0.21436         -0.172084         -2.084369  \n",
       "4132         -0.359435        -0.21436         -0.172084          0.479761  \n",
       "511          -0.359435        -0.21436         -0.172084          0.479761  \n",
       "2061         -0.359435        -0.21436         -0.172084          0.479761  \n",
       "\n",
       "[5 rows x 51 columns]"
      ]
     },
     "execution_count": 71,
     "metadata": {},
     "output_type": "execute_result"
    }
   ],
   "source": [
    "x_test.head()"
   ]
  },
  {
   "cell_type": "code",
   "execution_count": 72,
   "metadata": {
    "collapsed": false
   },
   "outputs": [],
   "source": [
    "def testPred(x_test, y_test, classifier, compute_score = True):\n",
    "    if compute_score == True:\n",
    "        score = classifier.score(x_test, y_test)\n",
    "        print \"Accuracy\", score\n",
    "        \n",
    "    valid_proba = pd.DataFrame(classifier.predict_proba(x_test)) # hasil prediksi\n",
    "    \n",
    "    return  valid_proba, score"
   ]
  },
  {
   "cell_type": "code",
   "execution_count": 73,
   "metadata": {
    "collapsed": false
   },
   "outputs": [
    {
     "name": "stdout",
     "output_type": "stream",
     "text": [
      "LogReg :   0.915254237288\n",
      "KNN :   0.893146647015\n",
      "LinearSVC :   0.911569638909\n",
      "RBF SVC :   0.893146647015\n",
      "Decision Tree :   0.898305084746\n",
      "Bagging :   0.910095799558\n",
      "RandomForest :   0.909358879882\n",
      "AdaBoost :   0.898305084746\n",
      "GradientBoost :   0.907885040531\n"
     ]
    }
   ],
   "source": [
    "classifiers = [logreg, knn, linSVC, rbfSVC, decTree, bagging, randForest, adaboost, gradBoost]\n",
    "label = ['LogReg', 'KNN', 'LinearSVC', 'RBF SVC', 'Decision Tree', 'Bagging', 'RandomForest', \n",
    "         'AdaBoost', 'GradientBoost']\n",
    "\n",
    "for clf, i in zip(classifiers, label):\n",
    "    print i,':  ', clf.score(x_test, y_test)"
   ]
  },
  {
   "cell_type": "code",
   "execution_count": null,
   "metadata": {
    "collapsed": true
   },
   "outputs": [],
   "source": []
  }
 ],
 "metadata": {
  "anaconda-cloud": {},
  "kernelspec": {
   "display_name": "Python [default]",
   "language": "python",
   "name": "python2"
  },
  "language_info": {
   "codemirror_mode": {
    "name": "ipython",
    "version": 2
   },
   "file_extension": ".py",
   "mimetype": "text/x-python",
   "name": "python",
   "nbconvert_exporter": "python",
   "pygments_lexer": "ipython2",
   "version": "2.7.12"
  }
 },
 "nbformat": 4,
 "nbformat_minor": 1
}
